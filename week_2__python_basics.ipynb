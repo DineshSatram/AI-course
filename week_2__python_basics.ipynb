{
  "cells": [
    {
      "cell_type": "markdown",
      "metadata": {
        "id": "view-in-github",
        "colab_type": "text"
      },
      "source": [
        "<a href=\"https://colab.research.google.com/github/DineshSatram/AI-course/blob/main/week_2__python_basics.ipynb\" target=\"_parent\"><img src=\"https://colab.research.google.com/assets/colab-badge.svg\" alt=\"Open In Colab\"/></a>"
      ]
    },
    {
      "cell_type": "markdown",
      "id": "1bb544c1",
      "metadata": {
        "id": "1bb544c1"
      },
      "source": [
        "## Scroll up and down your cells with your Up and Down keys.\n",
        "## Press A or B to insert a new cell above or below the active cell.\n",
        "## M will transform the active cell to a Markdown cell.\n",
        "## Y will set the active cell to a code cell.\n",
        "## D + D (D twice) will delete the active cell.\n",
        "## Z will undo cell deletion.\n",
        "## Hold Shift and press Up or Down to select multiple cells at once. With multiple cells selected, Shift + M will merge your selection.\n",
        "## Ctrl + Shift + -, in edit mode, will split the active cell at the cursor.\n",
        "## You can also click and Shift + Click in the margin to the left of your cells to select them"
      ]
    },
    {
      "cell_type": "markdown",
      "id": "561b679d",
      "metadata": {
        "id": "561b679d"
      },
      "source": [
        "## WELCOME\n"
      ]
    },
    {
      "cell_type": "code",
      "execution_count": 1,
      "id": "c69e551a",
      "metadata": {
        "id": "c69e551a",
        "colab": {
          "base_uri": "https://localhost:8080/"
        },
        "outputId": "cff14a2b-2751-409b-99ef-df9f5999a863"
      },
      "outputs": [
        {
          "output_type": "stream",
          "name": "stdout",
          "text": [
            "hello world\n"
          ]
        }
      ],
      "source": [
        "import time\n",
        "time.sleep(10)\n",
        "print(\"hello world\")"
      ]
    },
    {
      "cell_type": "markdown",
      "id": "58a4ccea",
      "metadata": {
        "id": "58a4ccea"
      },
      "source": [
        "\n",
        "## $y=mx+c$"
      ]
    },
    {
      "cell_type": "code",
      "execution_count": null,
      "id": "3e0b5ea7",
      "metadata": {
        "id": "3e0b5ea7"
      },
      "outputs": [],
      "source": [
        "%lsmagic"
      ]
    },
    {
      "cell_type": "code",
      "execution_count": 3,
      "id": "9c1dd43f",
      "metadata": {
        "id": "9c1dd43f",
        "colab": {
          "base_uri": "https://localhost:8080/"
        },
        "outputId": "08af1c6f-94ae-4085-dd9a-49e6d522a34b"
      },
      "outputs": [
        {
          "output_type": "execute_result",
          "data": {
            "text/plain": [
              "[]"
            ]
          },
          "metadata": {},
          "execution_count": 3
        }
      ],
      "source": [
        "%system"
      ]
    },
    {
      "cell_type": "code",
      "execution_count": 4,
      "id": "ff29c45a",
      "metadata": {
        "id": "ff29c45a",
        "colab": {
          "base_uri": "https://localhost:8080/"
        },
        "outputId": "b72a44aa-989e-4f63-d1b9-60e18889342e"
      },
      "outputs": [
        {
          "output_type": "stream",
          "name": "stdout",
          "text": [
            "import time\n",
            "time.sleep(10)\n",
            "print(\"hello world\")\n",
            "%lsmagic\n",
            "%system\n",
            "%history\n"
          ]
        }
      ],
      "source": [
        "%history"
      ]
    },
    {
      "cell_type": "markdown",
      "id": "d794506f",
      "metadata": {
        "id": "d794506f"
      },
      "source": [
        "## HI"
      ]
    },
    {
      "cell_type": "code",
      "execution_count": 5,
      "id": "2f5e40e9",
      "metadata": {
        "id": "2f5e40e9",
        "colab": {
          "base_uri": "https://localhost:8080/"
        },
        "outputId": "ade3caa4-fa73-45c8-fc33-789ef2c3bbef"
      },
      "outputs": [
        {
          "output_type": "stream",
          "name": "stdout",
          "text": [
            "CPU times: user 3 µs, sys: 0 ns, total: 3 µs\n",
            "Wall time: 7.39 µs\n"
          ]
        }
      ],
      "source": [
        "%time"
      ]
    },
    {
      "cell_type": "code",
      "execution_count": 6,
      "id": "b7a6bd4b",
      "metadata": {
        "id": "b7a6bd4b"
      },
      "outputs": [],
      "source": [
        "%quickref"
      ]
    },
    {
      "cell_type": "markdown",
      "id": "d3660396",
      "metadata": {
        "id": "d3660396"
      },
      "source": [
        "## Assignment"
      ]
    },
    {
      "cell_type": "markdown",
      "id": "ed162340",
      "metadata": {
        "id": "ed162340"
      },
      "source": [
        "## variables --> place were you store the values temporalily"
      ]
    },
    {
      "cell_type": "code",
      "execution_count": 7,
      "id": "929d99a4",
      "metadata": {
        "id": "929d99a4"
      },
      "outputs": [],
      "source": [
        "a = 10"
      ]
    },
    {
      "cell_type": "code",
      "execution_count": 8,
      "id": "df91a547",
      "metadata": {
        "id": "df91a547",
        "colab": {
          "base_uri": "https://localhost:8080/"
        },
        "outputId": "aaa48c08-8b07-456d-947a-4a0fa67e8e74"
      },
      "outputs": [
        {
          "output_type": "stream",
          "name": "stdout",
          "text": [
            "10\n"
          ]
        }
      ],
      "source": [
        "print(a)"
      ]
    },
    {
      "cell_type": "markdown",
      "id": "6d3be778",
      "metadata": {
        "id": "6d3be778"
      },
      "source": [
        "## Left hand side = Variable\n",
        "## Righ Hand side = expression"
      ]
    },
    {
      "cell_type": "code",
      "execution_count": 9,
      "id": "21e27c03",
      "metadata": {
        "id": "21e27c03",
        "colab": {
          "base_uri": "https://localhost:8080/"
        },
        "outputId": "4e89c1d3-980d-4978-92cf-545033a13c4f"
      },
      "outputs": [
        {
          "output_type": "stream",
          "name": "stdout",
          "text": [
            "40\n"
          ]
        }
      ],
      "source": [
        "b=30\n",
        "c=a+b\n",
        "print(c)"
      ]
    },
    {
      "cell_type": "code",
      "execution_count": 10,
      "id": "f2b49fa1",
      "metadata": {
        "id": "f2b49fa1",
        "colab": {
          "base_uri": "https://localhost:8080/"
        },
        "outputId": "4c3d8863-8e58-4271-9a61-1d7a0a2fd722"
      },
      "outputs": [
        {
          "output_type": "stream",
          "name": "stdout",
          "text": [
            "x= 100 y= 100 z= 100\n"
          ]
        }
      ],
      "source": [
        "x=y=z=100\n",
        "print(\"x=\",x,\"y=\",y,\"z=\",z)"
      ]
    },
    {
      "cell_type": "code",
      "execution_count": 11,
      "id": "29491409",
      "metadata": {
        "id": "29491409",
        "colab": {
          "base_uri": "https://localhost:8080/"
        },
        "outputId": "a2ed3b6d-aeb6-43df-f87a-c2bdaf3d172b"
      },
      "outputs": [
        {
          "output_type": "stream",
          "name": "stdout",
          "text": [
            "a= 10 \n",
            " b= python \n",
            "c= 20\n"
          ]
        }
      ],
      "source": [
        "a,c,b=10,20,\"python\"\n",
        "\n",
        "print(\"a=\",a,\"\\n b=\",b,\"\\nc=\",c)"
      ]
    },
    {
      "cell_type": "markdown",
      "id": "262331fb",
      "metadata": {
        "id": "262331fb"
      },
      "source": [
        "## Python is case sensitive\n",
        "## Variable creation is using a letter or a word\n",
        "## Alpha numeric variables are allowed\n",
        "## special characters except _ cannot be used\n",
        "## variable name cannot start with number"
      ]
    },
    {
      "cell_type": "code",
      "execution_count": 14,
      "id": "16f5d1b8",
      "metadata": {
        "id": "16f5d1b8",
        "colab": {
          "base_uri": "https://localhost:8080/",
          "height": 217
        },
        "outputId": "f22a5021-2d9a-47ad-a506-46d682eb642d"
      },
      "outputs": [
        {
          "output_type": "stream",
          "name": "stdout",
          "text": [
            "10\n"
          ]
        },
        {
          "output_type": "error",
          "ename": "NameError",
          "evalue": "ignored",
          "traceback": [
            "\u001b[0;31m---------------------------------------------------------------------------\u001b[0m",
            "\u001b[0;31mNameError\u001b[0m                                 Traceback (most recent call last)",
            "\u001b[0;32m<ipython-input-14-938036948f54>\u001b[0m in \u001b[0;36m<module>\u001b[0;34m()\u001b[0m\n\u001b[1;32m      1\u001b[0m \u001b[0mC1\u001b[0m\u001b[0;34m=\u001b[0m\u001b[0;36m10\u001b[0m\u001b[0;34m\u001b[0m\u001b[0;34m\u001b[0m\u001b[0m\n\u001b[1;32m      2\u001b[0m \u001b[0mprint\u001b[0m\u001b[0;34m(\u001b[0m\u001b[0mC1\u001b[0m\u001b[0;34m)\u001b[0m\u001b[0;34m\u001b[0m\u001b[0;34m\u001b[0m\u001b[0m\n\u001b[0;32m----> 3\u001b[0;31m \u001b[0mprint\u001b[0m\u001b[0;34m(\u001b[0m\u001b[0mc1\u001b[0m\u001b[0;34m)\u001b[0m\u001b[0;34m\u001b[0m\u001b[0;34m\u001b[0m\u001b[0m\n\u001b[0m",
            "\u001b[0;31mNameError\u001b[0m: name 'c1' is not defined"
          ]
        }
      ],
      "source": [
        "C1=10\n",
        "print(C1)\n",
        "print(c1)"
      ]
    },
    {
      "cell_type": "code",
      "execution_count": 13,
      "id": "68a9261c",
      "metadata": {
        "id": "68a9261c",
        "colab": {
          "base_uri": "https://localhost:8080/",
          "height": 130
        },
        "outputId": "2f2a5736-fa2d-48fe-f01a-a99c835bd248"
      },
      "outputs": [
        {
          "output_type": "error",
          "ename": "SyntaxError",
          "evalue": "ignored",
          "traceback": [
            "\u001b[0;36m  File \u001b[0;32m\"<ipython-input-13-f9b51b1f2517>\"\u001b[0;36m, line \u001b[0;32m1\u001b[0m\n\u001b[0;31m    hell$msg=\"hello world\"\u001b[0m\n\u001b[0m        ^\u001b[0m\n\u001b[0;31mSyntaxError\u001b[0m\u001b[0;31m:\u001b[0m invalid syntax\n"
          ]
        }
      ],
      "source": [
        "hell$msg=\"hello world\"\n",
        "print(hello$msg)"
      ]
    },
    {
      "cell_type": "code",
      "execution_count": 15,
      "id": "57dce450",
      "metadata": {
        "id": "57dce450",
        "colab": {
          "base_uri": "https://localhost:8080/",
          "height": 130
        },
        "outputId": "e92a6ebf-47ef-4bf6-cee0-04498d50c217"
      },
      "outputs": [
        {
          "output_type": "error",
          "ename": "SyntaxError",
          "evalue": "ignored",
          "traceback": [
            "\u001b[0;36m  File \u001b[0;32m\"<ipython-input-15-2cc0b4843ddf>\"\u001b[0;36m, line \u001b[0;32m1\u001b[0m\n\u001b[0;31m    1w=10\u001b[0m\n\u001b[0m     ^\u001b[0m\n\u001b[0;31mSyntaxError\u001b[0m\u001b[0;31m:\u001b[0m invalid syntax\n"
          ]
        }
      ],
      "source": [
        "1w=10\n",
        "print(1w)"
      ]
    },
    {
      "cell_type": "markdown",
      "id": "e0d9eafe",
      "metadata": {
        "id": "e0d9eafe"
      },
      "source": [
        "## $ Datatype$\n",
        "## Strings or characters- String\n",
        "## Numeric - Integers, Float, Complex\n",
        "## Sequences - Arraya, Lists, Tuple, Range\n",
        "## Mapping - Dictionary\n",
        "## Set- Sets, Frozen Sets\n",
        "## Boolean-Bool\n",
        "## Binary-bytes, bytearray"
      ]
    },
    {
      "cell_type": "code",
      "execution_count": 16,
      "id": "0b600e9f",
      "metadata": {
        "id": "0b600e9f",
        "colab": {
          "base_uri": "https://localhost:8080/"
        },
        "outputId": "51b0e233-c4f8-4051-92ee-287ad9abc8d7"
      },
      "outputs": [
        {
          "output_type": "stream",
          "name": "stdout",
          "text": [
            "str1= How are you?\n"
          ]
        },
        {
          "output_type": "execute_result",
          "data": {
            "text/plain": [
              "str"
            ]
          },
          "metadata": {},
          "execution_count": 16
        }
      ],
      "source": [
        "str1=\"How are you?\"\n",
        "print(\"str1=\",str1)\n",
        "type(str1)"
      ]
    },
    {
      "cell_type": "code",
      "execution_count": 17,
      "id": "c88e2a3f",
      "metadata": {
        "id": "c88e2a3f",
        "colab": {
          "base_uri": "https://localhost:8080/"
        },
        "outputId": "3b2df9eb-5623-46aa-9764-b0d014865e12"
      },
      "outputs": [
        {
          "output_type": "execute_result",
          "data": {
            "text/plain": [
              "int"
            ]
          },
          "metadata": {},
          "execution_count": 17
        }
      ],
      "source": [
        "type(x)"
      ]
    },
    {
      "cell_type": "code",
      "execution_count": 18,
      "id": "598cf669",
      "metadata": {
        "id": "598cf669",
        "colab": {
          "base_uri": "https://localhost:8080/"
        },
        "outputId": "ded893da-436f-4113-b15c-81bed6b7a97e"
      },
      "outputs": [
        {
          "output_type": "execute_result",
          "data": {
            "text/plain": [
              "float"
            ]
          },
          "metadata": {},
          "execution_count": 18
        }
      ],
      "source": [
        "flo=2.3\n",
        "type(flo)"
      ]
    },
    {
      "cell_type": "code",
      "execution_count": 19,
      "id": "50d3a77b",
      "metadata": {
        "id": "50d3a77b",
        "colab": {
          "base_uri": "https://localhost:8080/"
        },
        "outputId": "2177b1d1-09f4-4e88-d735-05ce2dae2592"
      },
      "outputs": [
        {
          "output_type": "execute_result",
          "data": {
            "text/plain": [
              "complex"
            ]
          },
          "metadata": {},
          "execution_count": 19
        }
      ],
      "source": [
        "comp=2+3j\n",
        "type(comp)"
      ]
    },
    {
      "cell_type": "code",
      "execution_count": 20,
      "id": "3c799b3d",
      "metadata": {
        "id": "3c799b3d",
        "colab": {
          "base_uri": "https://localhost:8080/"
        },
        "outputId": "fcf30e38-c0de-476e-8c50-48a03d318841"
      },
      "outputs": [
        {
          "output_type": "stream",
          "name": "stdout",
          "text": [
            "8\n"
          ]
        },
        {
          "output_type": "execute_result",
          "data": {
            "text/plain": [
              "str"
            ]
          },
          "metadata": {},
          "execution_count": 20
        }
      ],
      "source": [
        "str1=\"1234567s\"\n",
        "print(len(str1))\n",
        "type(str1)"
      ]
    },
    {
      "cell_type": "code",
      "execution_count": 21,
      "id": "3fde0405",
      "metadata": {
        "id": "3fde0405",
        "colab": {
          "base_uri": "https://localhost:8080/",
          "height": 36
        },
        "outputId": "b7d8ae0d-15b7-4b65-8011-23074d029afb"
      },
      "outputs": [
        {
          "output_type": "execute_result",
          "data": {
            "text/plain": [
              "'HELLO BATCH 3'"
            ],
            "application/vnd.google.colaboratory.intrinsic+json": {
              "type": "string"
            }
          },
          "metadata": {},
          "execution_count": 21
        }
      ],
      "source": [
        "str1=\"hello Batch 3\"\n",
        "str1.upper()"
      ]
    },
    {
      "cell_type": "code",
      "execution_count": 22,
      "id": "96d903d8",
      "metadata": {
        "id": "96d903d8",
        "colab": {
          "base_uri": "https://localhost:8080/",
          "height": 36
        },
        "outputId": "931cc230-3b27-4cc5-f380-7c245d2a73c0"
      },
      "outputs": [
        {
          "output_type": "execute_result",
          "data": {
            "text/plain": [
              "'Hello batch 3'"
            ],
            "application/vnd.google.colaboratory.intrinsic+json": {
              "type": "string"
            }
          },
          "metadata": {},
          "execution_count": 22
        }
      ],
      "source": [
        "str1.capitalize()"
      ]
    },
    {
      "cell_type": "code",
      "execution_count": 23,
      "id": "8b6a9175",
      "metadata": {
        "id": "8b6a9175",
        "colab": {
          "base_uri": "https://localhost:8080/",
          "height": 36
        },
        "outputId": "8b08c7f2-5b56-4acc-ab06-5be9052356d1"
      },
      "outputs": [
        {
          "output_type": "execute_result",
          "data": {
            "text/plain": [
              "'Hello Batch 3'"
            ],
            "application/vnd.google.colaboratory.intrinsic+json": {
              "type": "string"
            }
          },
          "metadata": {},
          "execution_count": 23
        }
      ],
      "source": [
        "str1.title()"
      ]
    },
    {
      "cell_type": "code",
      "execution_count": 24,
      "id": "cb1f4391",
      "metadata": {
        "id": "cb1f4391",
        "colab": {
          "base_uri": "https://localhost:8080/",
          "height": 36
        },
        "outputId": "e7a9a307-05f9-4d84-b22d-593b35e016eb"
      },
      "outputs": [
        {
          "output_type": "execute_result",
          "data": {
            "text/plain": [
              "'hel'"
            ],
            "application/vnd.google.colaboratory.intrinsic+json": {
              "type": "string"
            }
          },
          "metadata": {},
          "execution_count": 24
        }
      ],
      "source": [
        "str1[0:3]"
      ]
    },
    {
      "cell_type": "code",
      "execution_count": 25,
      "id": "8a33f5e6",
      "metadata": {
        "id": "8a33f5e6",
        "colab": {
          "base_uri": "https://localhost:8080/",
          "height": 36
        },
        "outputId": "db9c7ef5-6a37-410c-a31c-640137c66ecb"
      },
      "outputs": [
        {
          "output_type": "execute_result",
          "data": {
            "text/plain": [
              "'hello'"
            ],
            "application/vnd.google.colaboratory.intrinsic+json": {
              "type": "string"
            }
          },
          "metadata": {},
          "execution_count": 25
        }
      ],
      "source": [
        "str1[:5]"
      ]
    },
    {
      "cell_type": "code",
      "execution_count": 26,
      "id": "51273e59",
      "metadata": {
        "id": "51273e59",
        "colab": {
          "base_uri": "https://localhost:8080/",
          "height": 36
        },
        "outputId": "702e921e-f9ba-4cf1-e58f-9fa9cd8a92c5"
      },
      "outputs": [
        {
          "output_type": "execute_result",
          "data": {
            "text/plain": [
              "'llo'"
            ],
            "application/vnd.google.colaboratory.intrinsic+json": {
              "type": "string"
            }
          },
          "metadata": {},
          "execution_count": 26
        }
      ],
      "source": [
        "str1[2:5]"
      ]
    },
    {
      "cell_type": "code",
      "execution_count": 27,
      "id": "509bfc34",
      "metadata": {
        "id": "509bfc34",
        "colab": {
          "base_uri": "https://localhost:8080/",
          "height": 36
        },
        "outputId": "2c27ca6d-beef-4184-89f3-633dcf5cc908"
      },
      "outputs": [
        {
          "output_type": "execute_result",
          "data": {
            "text/plain": [
              "'3 hctaB olleh'"
            ],
            "application/vnd.google.colaboratory.intrinsic+json": {
              "type": "string"
            }
          },
          "metadata": {},
          "execution_count": 27
        }
      ],
      "source": [
        "str1[::-1]"
      ]
    },
    {
      "cell_type": "code",
      "execution_count": 28,
      "id": "63b55634",
      "metadata": {
        "id": "63b55634",
        "colab": {
          "base_uri": "https://localhost:8080/",
          "height": 36
        },
        "outputId": "1e29bc7f-bc72-4f1e-c64d-a316988c0ce4"
      },
      "outputs": [
        {
          "output_type": "execute_result",
          "data": {
            "text/plain": [
              "'hlBc3'"
            ],
            "application/vnd.google.colaboratory.intrinsic+json": {
              "type": "string"
            }
          },
          "metadata": {},
          "execution_count": 28
        }
      ],
      "source": [
        "str1[::3]"
      ]
    },
    {
      "cell_type": "code",
      "execution_count": 29,
      "id": "16677d93",
      "metadata": {
        "id": "16677d93",
        "colab": {
          "base_uri": "https://localhost:8080/",
          "height": 36
        },
        "outputId": "594b4853-ad39-4df1-f908-32596417a110"
      },
      "outputs": [
        {
          "output_type": "execute_result",
          "data": {
            "text/plain": [
              "'3 hctaB olleh'"
            ],
            "application/vnd.google.colaboratory.intrinsic+json": {
              "type": "string"
            }
          },
          "metadata": {},
          "execution_count": 29
        }
      ],
      "source": [
        "str1[::-1]"
      ]
    },
    {
      "cell_type": "markdown",
      "id": "216e85fd",
      "metadata": {
        "id": "216e85fd"
      },
      "source": [
        "## $Immutability$\n",
        "## Strings are Immutable"
      ]
    },
    {
      "cell_type": "code",
      "execution_count": 30,
      "id": "79c2ca13",
      "metadata": {
        "id": "79c2ca13",
        "colab": {
          "base_uri": "https://localhost:8080/",
          "height": 36
        },
        "outputId": "f671129e-1bca-4fdc-9a77-704a95893656"
      },
      "outputs": [
        {
          "output_type": "execute_result",
          "data": {
            "text/plain": [
              "'l'"
            ],
            "application/vnd.google.colaboratory.intrinsic+json": {
              "type": "string"
            }
          },
          "metadata": {},
          "execution_count": 30
        }
      ],
      "source": [
        "str1[2]"
      ]
    },
    {
      "cell_type": "code",
      "execution_count": 31,
      "id": "dcdecf7d",
      "metadata": {
        "id": "dcdecf7d",
        "colab": {
          "base_uri": "https://localhost:8080/",
          "height": 165
        },
        "outputId": "f8b74a66-5727-4648-8527-f171d94c5224"
      },
      "outputs": [
        {
          "output_type": "error",
          "ename": "TypeError",
          "evalue": "ignored",
          "traceback": [
            "\u001b[0;31m---------------------------------------------------------------------------\u001b[0m",
            "\u001b[0;31mTypeError\u001b[0m                                 Traceback (most recent call last)",
            "\u001b[0;32m<ipython-input-31-5cb0d32935e5>\u001b[0m in \u001b[0;36m<module>\u001b[0;34m()\u001b[0m\n\u001b[0;32m----> 1\u001b[0;31m \u001b[0mstr1\u001b[0m\u001b[0;34m[\u001b[0m\u001b[0;36m2\u001b[0m\u001b[0;34m]\u001b[0m\u001b[0;34m=\u001b[0m\u001b[0;34m\"w\"\u001b[0m\u001b[0;34m\u001b[0m\u001b[0;34m\u001b[0m\u001b[0m\n\u001b[0m",
            "\u001b[0;31mTypeError\u001b[0m: 'str' object does not support item assignment"
          ]
        }
      ],
      "source": [
        "str1[2]=\"w\""
      ]
    },
    {
      "cell_type": "code",
      "execution_count": 32,
      "id": "bb809d1d",
      "metadata": {
        "id": "bb809d1d",
        "colab": {
          "base_uri": "https://localhost:8080/"
        },
        "outputId": "642d98b6-d4a2-4f0d-88e8-63fba8c94eac"
      },
      "outputs": [
        {
          "output_type": "stream",
          "name": "stdout",
          "text": [
            "25\n",
            "11256832\n",
            "45\n",
            "11257472\n"
          ]
        }
      ],
      "source": [
        "age=25\n",
        "print(age)\n",
        "print(id(age))\n",
        "\n",
        "age=45\n",
        "print(age)\n",
        "print(id(age))"
      ]
    },
    {
      "cell_type": "code",
      "execution_count": 33,
      "id": "ce8f0172",
      "metadata": {
        "id": "ce8f0172",
        "colab": {
          "base_uri": "https://localhost:8080/"
        },
        "outputId": "3e36b481-885d-4233-9271-a565651b7b33"
      },
      "outputs": [
        {
          "output_type": "stream",
          "name": "stdout",
          "text": [
            "rrr\n",
            "139847303001328\n",
            "kgf2\n",
            "139847303000112\n"
          ]
        }
      ],
      "source": [
        "st  = \"rrr\"\n",
        "print(st)\n",
        "print(id(st))\n",
        "                      # immutable, which means you cant change them\n",
        "st  = \"kgf2\"\n",
        "print(st)\n",
        "print(id(st))"
      ]
    },
    {
      "cell_type": "code",
      "execution_count": 34,
      "id": "c53830bc",
      "metadata": {
        "id": "c53830bc",
        "colab": {
          "base_uri": "https://localhost:8080/",
          "height": 36
        },
        "outputId": "67a9f2d7-15b3-4313-c7bb-1ea38e2228e9"
      },
      "outputs": [
        {
          "output_type": "execute_result",
          "data": {
            "text/plain": [
              "'helloworld'"
            ],
            "application/vnd.google.colaboratory.intrinsic+json": {
              "type": "string"
            }
          },
          "metadata": {},
          "execution_count": 34
        }
      ],
      "source": [
        "str1=\"hello\"\n",
        "str2=\"world\"\n",
        "str_msg=str1+str2\n",
        "str_msg"
      ]
    },
    {
      "cell_type": "code",
      "execution_count": 35,
      "id": "14aefc4c",
      "metadata": {
        "id": "14aefc4c",
        "colab": {
          "base_uri": "https://localhost:8080/"
        },
        "outputId": "2d5d9bcc-e874-49df-8e86-c9e793b031d1"
      },
      "outputs": [
        {
          "output_type": "execute_result",
          "data": {
            "text/plain": [
              "False"
            ]
          },
          "metadata": {},
          "execution_count": 35
        }
      ],
      "source": [
        "str1.isnumeric()"
      ]
    },
    {
      "cell_type": "code",
      "execution_count": 36,
      "id": "278c8d93",
      "metadata": {
        "scrolled": true,
        "id": "278c8d93",
        "colab": {
          "base_uri": "https://localhost:8080/",
          "height": 165
        },
        "outputId": "699349a5-fb50-4f63-ed39-30b356bc674e"
      },
      "outputs": [
        {
          "output_type": "error",
          "ename": "AttributeError",
          "evalue": "ignored",
          "traceback": [
            "\u001b[0;31m---------------------------------------------------------------------------\u001b[0m",
            "\u001b[0;31mAttributeError\u001b[0m                            Traceback (most recent call last)",
            "\u001b[0;32m<ipython-input-36-38bfa9dbadb0>\u001b[0m in \u001b[0;36m<module>\u001b[0;34m()\u001b[0m\n\u001b[0;32m----> 1\u001b[0;31m \u001b[0mc\u001b[0m\u001b[0;34m.\u001b[0m\u001b[0misnumeric\u001b[0m\u001b[0;34m(\u001b[0m\u001b[0;34m)\u001b[0m\u001b[0;34m\u001b[0m\u001b[0;34m\u001b[0m\u001b[0m\n\u001b[0m",
            "\u001b[0;31mAttributeError\u001b[0m: 'int' object has no attribute 'isnumeric'"
          ]
        }
      ],
      "source": [
        "c.isnumeric()"
      ]
    },
    {
      "cell_type": "code",
      "execution_count": 37,
      "id": "134844a9",
      "metadata": {
        "id": "134844a9"
      },
      "outputs": [],
      "source": [
        "str1=str1.replace('l','c')"
      ]
    },
    {
      "cell_type": "code",
      "execution_count": 38,
      "id": "de10ffae",
      "metadata": {
        "id": "de10ffae",
        "colab": {
          "base_uri": "https://localhost:8080/",
          "height": 36
        },
        "outputId": "83c859a5-b2b5-4394-cd5b-dea853e92304"
      },
      "outputs": [
        {
          "output_type": "execute_result",
          "data": {
            "text/plain": [
              "'hecco'"
            ],
            "application/vnd.google.colaboratory.intrinsic+json": {
              "type": "string"
            }
          },
          "metadata": {},
          "execution_count": 38
        }
      ],
      "source": [
        "str1"
      ]
    },
    {
      "cell_type": "markdown",
      "id": "2769b16c",
      "metadata": {
        "id": "2769b16c"
      },
      "source": [
        "## printing"
      ]
    },
    {
      "cell_type": "code",
      "execution_count": 39,
      "id": "92e701ae",
      "metadata": {
        "id": "92e701ae",
        "colab": {
          "base_uri": "https://localhost:8080/"
        },
        "outputId": "da5eb76d-9327-4d54-b1f8-50e414032c58"
      },
      "outputs": [
        {
          "output_type": "stream",
          "name": "stdout",
          "text": [
            "x=100 \n",
            " y=100 \n",
            " z=100\n"
          ]
        }
      ],
      "source": [
        "print(\"x={} \\n y={} \\n z={}\".format(x,y,z))"
      ]
    },
    {
      "cell_type": "code",
      "execution_count": 40,
      "id": "a747d595",
      "metadata": {
        "id": "a747d595",
        "colab": {
          "base_uri": "https://localhost:8080/"
        },
        "outputId": "bbff6dd1-b4f4-44a3-e045-a3c1e85a3c4a"
      },
      "outputs": [
        {
          "output_type": "stream",
          "name": "stdout",
          "text": [
            "welcome AI Batch 3\n"
          ]
        }
      ],
      "source": [
        "print(\"welcome {} {}\".format(\"AI\",\"Batch 3\"))"
      ]
    },
    {
      "cell_type": "code",
      "execution_count": 41,
      "id": "28050775",
      "metadata": {
        "id": "28050775",
        "colab": {
          "base_uri": "https://localhost:8080/"
        },
        "outputId": "9a9f2510-888d-4038-f9ef-9a4d97a80b0e"
      },
      "outputs": [
        {
          "output_type": "stream",
          "name": "stdout",
          "text": [
            "value of x=100\n"
          ]
        }
      ],
      "source": [
        "print(\"value of x={xvalue}\".format(xvalue=x))"
      ]
    },
    {
      "cell_type": "markdown",
      "id": "2f8f0a6f",
      "metadata": {
        "id": "2f8f0a6f"
      },
      "source": [
        "## NUMBERS"
      ]
    },
    {
      "cell_type": "code",
      "execution_count": 42,
      "id": "e7936629",
      "metadata": {
        "id": "e7936629",
        "colab": {
          "base_uri": "https://localhost:8080/"
        },
        "outputId": "6384ff81-282e-4d1f-e3b2-e717e1350862"
      },
      "outputs": [
        {
          "output_type": "execute_result",
          "data": {
            "text/plain": [
              "float"
            ]
          },
          "metadata": {},
          "execution_count": 42
        }
      ],
      "source": [
        "c=12.3\n",
        "type(c)"
      ]
    },
    {
      "cell_type": "code",
      "execution_count": 43,
      "id": "1556f9c3",
      "metadata": {
        "id": "1556f9c3",
        "colab": {
          "base_uri": "https://localhost:8080/"
        },
        "outputId": "5e00721e-adea-4682-adce-f5fbdd12d015"
      },
      "outputs": [
        {
          "output_type": "execute_result",
          "data": {
            "text/plain": [
              "int"
            ]
          },
          "metadata": {},
          "execution_count": 43
        }
      ],
      "source": [
        "int1=int(c)\n",
        "type(int1)"
      ]
    },
    {
      "cell_type": "code",
      "execution_count": 44,
      "id": "65ddaa3b",
      "metadata": {
        "id": "65ddaa3b",
        "colab": {
          "base_uri": "https://localhost:8080/"
        },
        "outputId": "3aa273d7-f3fa-49e0-b64e-5930cede46fc"
      },
      "outputs": [
        {
          "output_type": "execute_result",
          "data": {
            "text/plain": [
              "str"
            ]
          },
          "metadata": {},
          "execution_count": 44
        }
      ],
      "source": [
        "st=str(c)\n",
        "type(st)"
      ]
    },
    {
      "cell_type": "code",
      "execution_count": 45,
      "id": "6ecf445c",
      "metadata": {
        "id": "6ecf445c",
        "colab": {
          "base_uri": "https://localhost:8080/"
        },
        "outputId": "bbc8db69-d9ca-417d-9bd4-c97e6523bda7"
      },
      "outputs": [
        {
          "output_type": "execute_result",
          "data": {
            "text/plain": [
              "bool"
            ]
          },
          "metadata": {},
          "execution_count": 45
        }
      ],
      "source": [
        "n=False\n",
        "type(n)"
      ]
    },
    {
      "cell_type": "code",
      "execution_count": 46,
      "id": "d5210a03",
      "metadata": {
        "id": "d5210a03",
        "colab": {
          "base_uri": "https://localhost:8080/"
        },
        "outputId": "b78c0716-f28b-463b-a982-2c203cb538b6"
      },
      "outputs": [
        {
          "output_type": "execute_result",
          "data": {
            "text/plain": [
              "bool"
            ]
          },
          "metadata": {},
          "execution_count": 46
        }
      ],
      "source": [
        "t=True #boolean datatype\n",
        "type(t)"
      ]
    },
    {
      "cell_type": "code",
      "execution_count": 47,
      "id": "3e4b9e55",
      "metadata": {
        "id": "3e4b9e55",
        "colab": {
          "base_uri": "https://localhost:8080/"
        },
        "outputId": "f6870649-858a-4749-9f39-26880242368d"
      },
      "outputs": [
        {
          "output_type": "execute_result",
          "data": {
            "text/plain": [
              "(12.3+0j)"
            ]
          },
          "metadata": {},
          "execution_count": 47
        }
      ],
      "source": [
        "comp1=complex(c)\n",
        "comp1\n"
      ]
    },
    {
      "cell_type": "code",
      "execution_count": 48,
      "id": "ba545f60",
      "metadata": {
        "id": "ba545f60",
        "colab": {
          "base_uri": "https://localhost:8080/"
        },
        "outputId": "65d79448-3840-45a6-b6e6-405be250f240"
      },
      "outputs": [
        {
          "output_type": "execute_result",
          "data": {
            "text/plain": [
              "complex"
            ]
          },
          "metadata": {},
          "execution_count": 48
        }
      ],
      "source": [
        "type(comp1)"
      ]
    },
    {
      "cell_type": "markdown",
      "id": "23a9edbe",
      "metadata": {
        "id": "23a9edbe"
      },
      "source": [
        "## operator\n",
        "Addition - +\n",
        "Subtraction- -\n",
        "Multiplication- *\n",
        "Square - **\n",
        "Division - /\n",
        "Floor Division - //\n",
        "Find the remainder - %"
      ]
    },
    {
      "cell_type": "code",
      "execution_count": null,
      "id": "f87b7f38",
      "metadata": {
        "id": "f87b7f38"
      },
      "outputs": [],
      "source": [
        "x=12\n",
        "y=13\n",
        "a=15\n",
        "b=2\n",
        "add=x+y\n",
        "print(add)\n",
        "s=x-y\n",
        "print(s)\n",
        "sq=x**3\n",
        "print(sq)\n",
        "mu=a*b\n",
        "print(mu)\n",
        "div=a/b\n",
        "print(div)\n",
        "floor_div=a//3\n",
        "print(floor_div)\n",
        "rem_div=a%4\n",
        "print(rem_div)\n"
      ]
    },
    {
      "cell_type": "markdown",
      "id": "8569544d",
      "metadata": {
        "id": "8569544d"
      },
      "source": [
        "from <package_name> import <model_name>\n",
        "import <model_name>\n",
        "import <model_name> as alias_name"
      ]
    },
    {
      "cell_type": "code",
      "execution_count": 49,
      "id": "ca39ae77",
      "metadata": {
        "id": "ca39ae77",
        "outputId": "f9009d4e-8de1-4f1f-9976-b44628932cce",
        "colab": {
          "base_uri": "https://localhost:8080/"
        }
      },
      "outputs": [
        {
          "output_type": "execute_result",
          "data": {
            "text/plain": [
              "4"
            ]
          },
          "metadata": {},
          "execution_count": 49
        }
      ],
      "source": [
        "import random as rm\n",
        "die=rm.randint(1,6)\n",
        "die"
      ]
    },
    {
      "cell_type": "code",
      "execution_count": 50,
      "id": "8bae84fd",
      "metadata": {
        "id": "8bae84fd",
        "outputId": "6b256347-a7ba-4e0f-d00f-439af99c7958",
        "colab": {
          "base_uri": "https://localhost:8080/"
        }
      },
      "outputs": [
        {
          "output_type": "execute_result",
          "data": {
            "text/plain": [
              "0.20034028101164414"
            ]
          },
          "metadata": {},
          "execution_count": 50
        }
      ],
      "source": [
        "rand1=rm.random()\n",
        "rand1"
      ]
    },
    {
      "cell_type": "code",
      "execution_count": 51,
      "id": "7174fb5a",
      "metadata": {
        "id": "7174fb5a",
        "outputId": "6c3e397a-753c-4097-8f47-56653d4cdfee",
        "colab": {
          "base_uri": "https://localhost:8080/"
        }
      },
      "outputs": [
        {
          "output_type": "execute_result",
          "data": {
            "text/plain": [
              "2.0"
            ]
          },
          "metadata": {},
          "execution_count": 51
        }
      ],
      "source": [
        "import math\n",
        "math.sqrt(4)"
      ]
    },
    {
      "cell_type": "code",
      "execution_count": 52,
      "id": "5db1c1eb",
      "metadata": {
        "id": "5db1c1eb",
        "outputId": "8e3e756a-56e7-4ab5-e485-98f9f3d4609d",
        "colab": {
          "base_uri": "https://localhost:8080/"
        }
      },
      "outputs": [
        {
          "output_type": "stream",
          "name": "stdout",
          "text": [
            "enter your namedinesh\n",
            "dinesh\n"
          ]
        }
      ],
      "source": [
        "# getting input from user\n",
        "\n",
        "user_input=input(\"enter your name\")\n",
        "print(user_input)"
      ]
    },
    {
      "cell_type": "code",
      "execution_count": 53,
      "id": "46960733",
      "metadata": {
        "id": "46960733",
        "colab": {
          "base_uri": "https://localhost:8080/"
        },
        "outputId": "fee54a78-96fa-46b5-ef6f-a318ecc29ab7"
      },
      "outputs": [
        {
          "output_type": "stream",
          "name": "stdout",
          "text": [
            "enter your age21\n",
            "21\n"
          ]
        }
      ],
      "source": [
        "user_age=input(\"enter your age\")\n",
        "print(user_age)"
      ]
    },
    {
      "cell_type": "code",
      "execution_count": 54,
      "id": "38abec23",
      "metadata": {
        "id": "38abec23",
        "outputId": "e9d35472-15ca-4c41-87b6-2aa8c44e8d70",
        "colab": {
          "base_uri": "https://localhost:8080/"
        }
      },
      "outputs": [
        {
          "output_type": "stream",
          "name": "stdout",
          "text": [
            "enter your age21\n",
            "21\n"
          ]
        }
      ],
      "source": [
        "user_age=input(\"enter your age\")\n",
        "print(user_age)"
      ]
    },
    {
      "cell_type": "code",
      "execution_count": 55,
      "id": "863215bd",
      "metadata": {
        "id": "863215bd",
        "outputId": "4f4788ee-ed41-4d64-a2e4-42e2283595d4",
        "colab": {
          "base_uri": "https://localhost:8080/"
        }
      },
      "outputs": [
        {
          "output_type": "execute_result",
          "data": {
            "text/plain": [
              "str"
            ]
          },
          "metadata": {},
          "execution_count": 55
        }
      ],
      "source": [
        "type(user_age)"
      ]
    },
    {
      "cell_type": "code",
      "execution_count": 56,
      "id": "a3d4bfad",
      "metadata": {
        "id": "a3d4bfad",
        "outputId": "f70c4bd2-7189-4145-ff75-9958d20518bd",
        "colab": {
          "base_uri": "https://localhost:8080/"
        }
      },
      "outputs": [
        {
          "output_type": "execute_result",
          "data": {
            "text/plain": [
              "int"
            ]
          },
          "metadata": {},
          "execution_count": 56
        }
      ],
      "source": [
        "user_age=int(user_age)\n",
        "type(user_age)"
      ]
    },
    {
      "cell_type": "markdown",
      "id": "5f84711a",
      "metadata": {
        "id": "5f84711a"
      },
      "source": [
        "## List -data structure where you can hold many values in single variable"
      ]
    },
    {
      "cell_type": "code",
      "execution_count": 57,
      "id": "dbebf8ba",
      "metadata": {
        "id": "dbebf8ba",
        "outputId": "eb7b2091-ec81-4a74-bd5a-c67491daa942",
        "colab": {
          "base_uri": "https://localhost:8080/"
        }
      },
      "outputs": [
        {
          "output_type": "stream",
          "name": "stdout",
          "text": [
            "<class 'list'>\n"
          ]
        },
        {
          "output_type": "execute_result",
          "data": {
            "text/plain": [
              "['apple', 'orange', 'grape']"
            ]
          },
          "metadata": {},
          "execution_count": 57
        }
      ],
      "source": [
        "fruits=[\"apple\",\"orange\",\"grape\"]\n",
        "print(type(fruits))\n",
        "fruits"
      ]
    },
    {
      "cell_type": "code",
      "execution_count": 58,
      "id": "c7e6306d",
      "metadata": {
        "id": "c7e6306d",
        "outputId": "4158a527-0820-4aad-8ac1-0fc4b9e3ac05",
        "colab": {
          "base_uri": "https://localhost:8080/"
        }
      },
      "outputs": [
        {
          "output_type": "execute_result",
          "data": {
            "text/plain": [
              "['apple', 'orange', 'grape', 2, 2.3, (2+3j), True]"
            ]
          },
          "metadata": {},
          "execution_count": 58
        }
      ],
      "source": [
        "fruits_num=[\"apple\",\"orange\",\"grape\",2,2.3,2+3j,True]\n",
        "fruits_num"
      ]
    },
    {
      "cell_type": "code",
      "execution_count": 59,
      "id": "ff53a69d",
      "metadata": {
        "id": "ff53a69d",
        "outputId": "51c6ed83-55b6-4320-fccf-fdbe54a9e604",
        "colab": {
          "base_uri": "https://localhost:8080/"
        }
      },
      "outputs": [
        {
          "output_type": "execute_result",
          "data": {
            "text/plain": [
              "7"
            ]
          },
          "metadata": {},
          "execution_count": 59
        }
      ],
      "source": [
        "len(fruits_num)"
      ]
    },
    {
      "cell_type": "code",
      "execution_count": 60,
      "id": "f8466ca7",
      "metadata": {
        "id": "f8466ca7",
        "outputId": "f792b185-b2ac-4b32-e1de-c287de3cd091",
        "colab": {
          "base_uri": "https://localhost:8080/",
          "height": 36
        }
      },
      "outputs": [
        {
          "output_type": "execute_result",
          "data": {
            "text/plain": [
              "'grape'"
            ],
            "application/vnd.google.colaboratory.intrinsic+json": {
              "type": "string"
            }
          },
          "metadata": {},
          "execution_count": 60
        }
      ],
      "source": [
        "fruits_num[2]"
      ]
    },
    {
      "cell_type": "code",
      "execution_count": 61,
      "id": "7ac60d58",
      "metadata": {
        "id": "7ac60d58",
        "outputId": "1c2f42d8-619d-4604-fa7f-7599af241a5f",
        "colab": {
          "base_uri": "https://localhost:8080/"
        }
      },
      "outputs": [
        {
          "output_type": "execute_result",
          "data": {
            "text/plain": [
              "['orange', 'grape', 2]"
            ]
          },
          "metadata": {},
          "execution_count": 61
        }
      ],
      "source": [
        "fruits_num[1:4]"
      ]
    },
    {
      "cell_type": "code",
      "execution_count": 62,
      "id": "73cf0859",
      "metadata": {
        "id": "73cf0859",
        "outputId": "63bf83ad-b1b5-4a6f-9985-4ec42704ff69",
        "colab": {
          "base_uri": "https://localhost:8080/"
        }
      },
      "outputs": [
        {
          "output_type": "execute_result",
          "data": {
            "text/plain": [
              "['apple', 'orange', 'mango', 2, 2.3, (2+3j), True]"
            ]
          },
          "metadata": {},
          "execution_count": 62
        }
      ],
      "source": [
        "fruits_num[2]=\"mango\"\n",
        "fruits_num"
      ]
    },
    {
      "cell_type": "code",
      "execution_count": 63,
      "id": "9a9b6a99",
      "metadata": {
        "id": "9a9b6a99",
        "outputId": "64a38b99-7d50-452b-d2bc-59063c0e0529",
        "colab": {
          "base_uri": "https://localhost:8080/"
        }
      },
      "outputs": [
        {
          "output_type": "execute_result",
          "data": {
            "text/plain": [
              "[2, 3, ['aaa', 'bb']]"
            ]
          },
          "metadata": {},
          "execution_count": 63
        }
      ],
      "source": [
        "two_D=[2,3,['aaa','bb']]\n",
        "two_D"
      ]
    },
    {
      "cell_type": "code",
      "execution_count": 64,
      "id": "a11d80c1",
      "metadata": {
        "id": "a11d80c1",
        "outputId": "d97aa66c-d24c-48e9-ef08-f27af17c568b",
        "colab": {
          "base_uri": "https://localhost:8080/"
        }
      },
      "outputs": [
        {
          "output_type": "execute_result",
          "data": {
            "text/plain": [
              "([[2, 3], [4, 5]],)"
            ]
          },
          "metadata": {},
          "execution_count": 64
        }
      ],
      "source": [
        "three_d=[\n",
        "    [2,3],\n",
        "    [4,5]\n",
        "],\n",
        "[\n",
        "    [22,33],\n",
        "    [44,55]\n",
        "]\n",
        "three_d"
      ]
    },
    {
      "cell_type": "code",
      "execution_count": 65,
      "id": "9cf56035",
      "metadata": {
        "id": "9cf56035",
        "outputId": "32bfa839-1335-438d-9c5c-1ffd06a325fb",
        "colab": {
          "base_uri": "https://localhost:8080/",
          "height": 36
        }
      },
      "outputs": [
        {
          "output_type": "execute_result",
          "data": {
            "text/plain": [
              "'bb'"
            ],
            "application/vnd.google.colaboratory.intrinsic+json": {
              "type": "string"
            }
          },
          "metadata": {},
          "execution_count": 65
        }
      ],
      "source": [
        "two_D[2][1]"
      ]
    },
    {
      "cell_type": "code",
      "execution_count": 66,
      "id": "e8a17391",
      "metadata": {
        "id": "e8a17391",
        "outputId": "0a718563-1ea9-4f7d-9c8f-6d2889d1725e",
        "colab": {
          "base_uri": "https://localhost:8080/"
        }
      },
      "outputs": [
        {
          "output_type": "execute_result",
          "data": {
            "text/plain": [
              "['apple', 'orange', 'mango', 2, 2.3, (2+3j), True, 33]"
            ]
          },
          "metadata": {},
          "execution_count": 66
        }
      ],
      "source": [
        "fruits_num.append(33)\n",
        "fruits_num\n"
      ]
    },
    {
      "cell_type": "code",
      "execution_count": 67,
      "id": "e731a187",
      "metadata": {
        "id": "e731a187",
        "outputId": "d08ef859-3ef4-4441-ab17-edda93c0a296",
        "colab": {
          "base_uri": "https://localhost:8080/"
        }
      },
      "outputs": [
        {
          "output_type": "execute_result",
          "data": {
            "text/plain": [
              "['apple', 'orange', 'mango', 2.3, (2+3j), True, 33]"
            ]
          },
          "metadata": {},
          "execution_count": 67
        }
      ],
      "source": [
        "fruits_num.remove(2)\n",
        "fruits_num"
      ]
    },
    {
      "cell_type": "code",
      "execution_count": 68,
      "id": "2f22885f",
      "metadata": {
        "id": "2f22885f",
        "outputId": "bbba2b59-2c31-48d7-ff47-d2b90f348386",
        "colab": {
          "base_uri": "https://localhost:8080/"
        }
      },
      "outputs": [
        {
          "output_type": "execute_result",
          "data": {
            "text/plain": [
              "['apple', 'orange', 'mango', 2.3, (2+3j), True]"
            ]
          },
          "metadata": {},
          "execution_count": 68
        }
      ],
      "source": [
        "fruits_num.pop()\n",
        "fruits_num"
      ]
    },
    {
      "cell_type": "code",
      "execution_count": 69,
      "id": "28ef4a79",
      "metadata": {
        "id": "28ef4a79",
        "outputId": "cbb172cf-e0c6-4129-9466-bf65114fc974",
        "colab": {
          "base_uri": "https://localhost:8080/"
        }
      },
      "outputs": [
        {
          "output_type": "execute_result",
          "data": {
            "text/plain": [
              "['apple', 'orange', 'mango', 2.3, (2+3j), True]"
            ]
          },
          "metadata": {},
          "execution_count": 69
        }
      ],
      "source": [
        "fru=fruits_num.copy()\n",
        "fru"
      ]
    },
    {
      "cell_type": "code",
      "execution_count": 70,
      "id": "abd315c9",
      "metadata": {
        "id": "abd315c9"
      },
      "outputs": [],
      "source": [
        "ext_list=fru+fruits_num"
      ]
    },
    {
      "cell_type": "code",
      "execution_count": 71,
      "id": "89202121",
      "metadata": {
        "id": "89202121",
        "outputId": "a3c42ff5-0bb2-4f9f-9f43-dd08c832aa22",
        "colab": {
          "base_uri": "https://localhost:8080/"
        }
      },
      "outputs": [
        {
          "output_type": "execute_result",
          "data": {
            "text/plain": [
              "['apple',\n",
              " 'orange',\n",
              " 'mango',\n",
              " 2.3,\n",
              " (2+3j),\n",
              " True,\n",
              " 'apple',\n",
              " 'orange',\n",
              " 'mango',\n",
              " 2.3,\n",
              " (2+3j),\n",
              " True]"
            ]
          },
          "metadata": {},
          "execution_count": 71
        }
      ],
      "source": [
        "ext_list"
      ]
    },
    {
      "cell_type": "code",
      "execution_count": 72,
      "id": "981044cc",
      "metadata": {
        "id": "981044cc",
        "outputId": "f3ca0997-27bd-4d5f-b59e-48551e741352",
        "colab": {
          "base_uri": "https://localhost:8080/"
        }
      },
      "outputs": [
        {
          "output_type": "execute_result",
          "data": {
            "text/plain": [
              "[[1, 2, 3], [5, 6, 7], [8, 9, 10]]"
            ]
          },
          "metadata": {},
          "execution_count": 72
        }
      ],
      "source": [
        "matrix=[[1,2,3],[5,6,7],[8,9,10]]\n",
        "matrix"
      ]
    },
    {
      "cell_type": "raw",
      "id": "3c79213a",
      "metadata": {
        "id": "3c79213a"
      },
      "source": [
        ""
      ]
    },
    {
      "cell_type": "markdown",
      "id": "58845b52",
      "metadata": {
        "id": "58845b52"
      },
      "source": [
        "matrix[0]"
      ]
    },
    {
      "cell_type": "code",
      "execution_count": 73,
      "id": "5ced1761",
      "metadata": {
        "id": "5ced1761",
        "outputId": "9249d946-2634-47f5-aeb0-565a931ea22c",
        "colab": {
          "base_uri": "https://localhost:8080/"
        }
      },
      "outputs": [
        {
          "output_type": "execute_result",
          "data": {
            "text/plain": [
              "[1, 2, 3]"
            ]
          },
          "metadata": {},
          "execution_count": 73
        }
      ],
      "source": [
        "matrix[0]"
      ]
    },
    {
      "cell_type": "code",
      "execution_count": 74,
      "id": "610fb375",
      "metadata": {
        "id": "610fb375",
        "outputId": "bbb0a582-e052-46fe-a0fe-f8c2815e077e",
        "colab": {
          "base_uri": "https://localhost:8080/"
        }
      },
      "outputs": [
        {
          "output_type": "execute_result",
          "data": {
            "text/plain": [
              "2"
            ]
          },
          "metadata": {},
          "execution_count": 74
        }
      ],
      "source": [
        "matrix[0][1]"
      ]
    },
    {
      "cell_type": "code",
      "execution_count": 75,
      "id": "8a374a18",
      "metadata": {
        "id": "8a374a18",
        "outputId": "d473b107-9768-4a2c-9af2-b5c81b42733e",
        "colab": {
          "base_uri": "https://localhost:8080/"
        }
      },
      "outputs": [
        {
          "output_type": "execute_result",
          "data": {
            "text/plain": [
              "10"
            ]
          },
          "metadata": {},
          "execution_count": 75
        }
      ],
      "source": [
        "matrix[2][2]"
      ]
    },
    {
      "cell_type": "code",
      "execution_count": 76,
      "id": "e838a43d",
      "metadata": {
        "id": "e838a43d",
        "outputId": "91daff03-9bcf-465d-faa4-3b05406cde4b",
        "colab": {
          "base_uri": "https://localhost:8080/"
        }
      },
      "outputs": [
        {
          "output_type": "execute_result",
          "data": {
            "text/plain": [
              "3"
            ]
          },
          "metadata": {},
          "execution_count": 76
        }
      ],
      "source": [
        "len(matrix)"
      ]
    },
    {
      "cell_type": "code",
      "execution_count": 77,
      "id": "1cf617d3",
      "metadata": {
        "id": "1cf617d3",
        "outputId": "ea99a217-4e8b-44b9-8da4-e4dcfcca51ce",
        "colab": {
          "base_uri": "https://localhost:8080/"
        }
      },
      "outputs": [
        {
          "output_type": "stream",
          "name": "stdout",
          "text": [
            "[1, 2, 3]\n",
            "[5, 6, 7]\n",
            "[8, 9, 10]\n",
            "[1, 2, 3]\n",
            "[5, 6, 7]\n",
            "[8, 9, 10]\n",
            "[1, 2, 3]\n",
            "[5, 6, 7]\n",
            "[8, 9, 10]\n"
          ]
        }
      ],
      "source": [
        "for i in matrix:\n",
        "    for j in range(len(i)):\n",
        "       print(matrix[j])"
      ]
    },
    {
      "cell_type": "code",
      "execution_count": 78,
      "id": "2c4b043c",
      "metadata": {
        "id": "2c4b043c"
      },
      "outputs": [],
      "source": [
        "list_comp=[i for i in range(1,11)]"
      ]
    },
    {
      "cell_type": "code",
      "execution_count": 79,
      "id": "0d8184e5",
      "metadata": {
        "id": "0d8184e5",
        "outputId": "7bf3a3c6-204a-47e9-a559-def125b44c52",
        "colab": {
          "base_uri": "https://localhost:8080/"
        }
      },
      "outputs": [
        {
          "output_type": "execute_result",
          "data": {
            "text/plain": [
              "[1, 2, 3, 4, 5, 6, 7, 8, 9, 10]"
            ]
          },
          "metadata": {},
          "execution_count": 79
        }
      ],
      "source": [
        "list_comp"
      ]
    },
    {
      "cell_type": "code",
      "execution_count": 80,
      "id": "e919fe20",
      "metadata": {
        "id": "e919fe20",
        "outputId": "3168cd11-ef7a-4b55-deb1-4be51608da9a",
        "colab": {
          "base_uri": "https://localhost:8080/"
        }
      },
      "outputs": [
        {
          "output_type": "execute_result",
          "data": {
            "text/plain": [
              "[1, 2, 3, 4, 5, 6, 7, 8, 9, 10]"
            ]
          },
          "metadata": {},
          "execution_count": 80
        }
      ],
      "source": [
        "list2=['1','2','3','4','5','6','7','8','9','10']\n",
        "map_list=list(map(int,list2))\n",
        "map_list"
      ]
    },
    {
      "cell_type": "code",
      "execution_count": 81,
      "id": "80161e40",
      "metadata": {
        "id": "80161e40",
        "outputId": "bcf36e7a-ffeb-43ea-a7cc-457fce347bd3",
        "colab": {
          "base_uri": "https://localhost:8080/"
        }
      },
      "outputs": [
        {
          "output_type": "execute_result",
          "data": {
            "text/plain": [
              "array('f', [1.0, 2.0, 3.0, 4.0, 5.0, 6.0, 7.0, 8.0, 9.0, 10.0])"
            ]
          },
          "metadata": {},
          "execution_count": 81
        }
      ],
      "source": [
        "import array as ar\n",
        "arr=ar.array('f',map_list)\n",
        "arr"
      ]
    },
    {
      "cell_type": "code",
      "execution_count": 82,
      "id": "3f72ff82",
      "metadata": {
        "id": "3f72ff82",
        "outputId": "d4b47316-a7e5-4d6d-ab4f-f81903cd5575",
        "colab": {
          "base_uri": "https://localhost:8080/"
        }
      },
      "outputs": [
        {
          "output_type": "execute_result",
          "data": {
            "text/plain": [
              "10"
            ]
          },
          "metadata": {},
          "execution_count": 82
        }
      ],
      "source": [
        "len(arr)"
      ]
    },
    {
      "cell_type": "code",
      "execution_count": 83,
      "id": "f88b4f31",
      "metadata": {
        "id": "f88b4f31",
        "outputId": "088eea8d-ea2c-4fd9-cab5-13475f24eb61",
        "colab": {
          "base_uri": "https://localhost:8080/"
        }
      },
      "outputs": [
        {
          "output_type": "execute_result",
          "data": {
            "text/plain": [
              "array('f', [1.0, 2.0, 3.0, 4.0, 5.0, 6.0, 7.0, 8.0, 9.0, 10.0, 3.0])"
            ]
          },
          "metadata": {},
          "execution_count": 83
        }
      ],
      "source": [
        "arr.extend([3])\n",
        "arr"
      ]
    },
    {
      "cell_type": "code",
      "execution_count": 84,
      "id": "c7e9805a",
      "metadata": {
        "id": "c7e9805a"
      },
      "outputs": [],
      "source": [
        "arr.insert(0,55)"
      ]
    },
    {
      "cell_type": "code",
      "execution_count": 85,
      "id": "16893aba",
      "metadata": {
        "id": "16893aba",
        "outputId": "a91b624a-b0cf-4435-c2a9-9a62ab1314ff",
        "colab": {
          "base_uri": "https://localhost:8080/"
        }
      },
      "outputs": [
        {
          "output_type": "execute_result",
          "data": {
            "text/plain": [
              "array('f', [55.0, 1.0, 2.0, 3.0, 4.0, 5.0, 6.0, 7.0, 8.0, 9.0, 10.0, 3.0])"
            ]
          },
          "metadata": {},
          "execution_count": 85
        }
      ],
      "source": [
        "arr"
      ]
    },
    {
      "cell_type": "code",
      "execution_count": 86,
      "id": "4ffe1944",
      "metadata": {
        "id": "4ffe1944"
      },
      "outputs": [],
      "source": [
        "arr.remove(55)"
      ]
    },
    {
      "cell_type": "raw",
      "id": "d15386c6",
      "metadata": {
        "id": "d15386c6"
      },
      "source": [
        ""
      ]
    },
    {
      "cell_type": "code",
      "execution_count": 87,
      "id": "f2736337",
      "metadata": {
        "id": "f2736337",
        "outputId": "04283e87-42e1-454d-8443-59bd86ec75c6",
        "colab": {
          "base_uri": "https://localhost:8080/"
        }
      },
      "outputs": [
        {
          "output_type": "execute_result",
          "data": {
            "text/plain": [
              "array('f', [1.0, 2.0, 3.0, 4.0, 5.0, 6.0, 7.0, 8.0, 9.0, 10.0, 3.0])"
            ]
          },
          "metadata": {},
          "execution_count": 87
        }
      ],
      "source": [
        "arr"
      ]
    },
    {
      "cell_type": "code",
      "execution_count": 88,
      "id": "b632b942",
      "metadata": {
        "id": "b632b942",
        "outputId": "f728d509-6b1a-4670-a719-6e145ed67407",
        "colab": {
          "base_uri": "https://localhost:8080/"
        }
      },
      "outputs": [
        {
          "output_type": "execute_result",
          "data": {
            "text/plain": [
              "3.0"
            ]
          },
          "metadata": {},
          "execution_count": 88
        }
      ],
      "source": [
        "arr.pop()"
      ]
    },
    {
      "cell_type": "code",
      "execution_count": 89,
      "id": "f4250861",
      "metadata": {
        "id": "f4250861",
        "outputId": "f956f798-3fd0-4446-9fe7-87ace901a67f",
        "colab": {
          "base_uri": "https://localhost:8080/"
        }
      },
      "outputs": [
        {
          "output_type": "execute_result",
          "data": {
            "text/plain": [
              "array('f', [1.0, 2.0, 3.0, 4.0, 5.0, 6.0, 7.0, 8.0, 9.0, 10.0])"
            ]
          },
          "metadata": {},
          "execution_count": 89
        }
      ],
      "source": [
        "arr"
      ]
    },
    {
      "cell_type": "code",
      "execution_count": 91,
      "id": "1797d955",
      "metadata": {
        "id": "1797d955"
      },
      "outputs": [],
      "source": [
        "arr.reverse()"
      ]
    },
    {
      "cell_type": "code",
      "execution_count": 92,
      "id": "f399defa",
      "metadata": {
        "id": "f399defa",
        "outputId": "b36e5c5e-4a85-47f2-9e73-c319b46b8957",
        "colab": {
          "base_uri": "https://localhost:8080/"
        }
      },
      "outputs": [
        {
          "output_type": "execute_result",
          "data": {
            "text/plain": [
              "array('f', [1.0, 2.0, 3.0, 4.0, 5.0, 6.0, 7.0, 8.0, 9.0, 10.0])"
            ]
          },
          "metadata": {},
          "execution_count": 92
        }
      ],
      "source": [
        "arr"
      ]
    },
    {
      "cell_type": "code",
      "execution_count": 93,
      "id": "0d555f06",
      "metadata": {
        "id": "0d555f06",
        "outputId": "7f73ece6-c8d6-40ff-fe02-219ee119aec0",
        "colab": {
          "base_uri": "https://localhost:8080/"
        }
      },
      "outputs": [
        {
          "output_type": "execute_result",
          "data": {
            "text/plain": [
              "array('f', [2.0, 3.0, 4.0])"
            ]
          },
          "metadata": {},
          "execution_count": 93
        }
      ],
      "source": [
        "arr[1:4]"
      ]
    },
    {
      "cell_type": "code",
      "execution_count": 94,
      "id": "6c05d3c1",
      "metadata": {
        "id": "6c05d3c1",
        "outputId": "00cbb3ce-2c12-49f0-9bd8-f992d67451d7",
        "colab": {
          "base_uri": "https://localhost:8080/"
        }
      },
      "outputs": [
        {
          "output_type": "execute_result",
          "data": {
            "text/plain": [
              "{'age': 24, 'name': 'geetha'}"
            ]
          },
          "metadata": {},
          "execution_count": 94
        }
      ],
      "source": [
        "# Dictionary\n",
        "\n",
        "dict1={\"name\":\"geetha\",\n",
        "      \"age\":24,\n",
        "      }\n",
        "dict1"
      ]
    },
    {
      "cell_type": "code",
      "execution_count": 95,
      "id": "692eecdc",
      "metadata": {
        "id": "692eecdc",
        "outputId": "020631a4-5e11-420c-956b-e443f96108d4",
        "colab": {
          "base_uri": "https://localhost:8080/"
        }
      },
      "outputs": [
        {
          "output_type": "execute_result",
          "data": {
            "text/plain": [
              "2"
            ]
          },
          "metadata": {},
          "execution_count": 95
        }
      ],
      "source": [
        "len(dict1)"
      ]
    },
    {
      "cell_type": "code",
      "execution_count": 96,
      "id": "642bdb27",
      "metadata": {
        "id": "642bdb27",
        "outputId": "1eaa8a62-f0d3-490c-f2a6-f406f9b0777a",
        "colab": {
          "base_uri": "https://localhost:8080/"
        }
      },
      "outputs": [
        {
          "output_type": "execute_result",
          "data": {
            "text/plain": [
              "{'age': 24, 'name': 'hari'}"
            ]
          },
          "metadata": {},
          "execution_count": 96
        }
      ],
      "source": [
        "dict1['name']=\"hari\"\n",
        "dict1"
      ]
    },
    {
      "cell_type": "code",
      "execution_count": 97,
      "id": "5c604969",
      "metadata": {
        "id": "5c604969",
        "outputId": "1d71176f-8865-4b13-ca87-8aca347dc9d2",
        "colab": {
          "base_uri": "https://localhost:8080/"
        }
      },
      "outputs": [
        {
          "output_type": "execute_result",
          "data": {
            "text/plain": [
              "dict_items([('name', 'hari'), ('age', 24)])"
            ]
          },
          "metadata": {},
          "execution_count": 97
        }
      ],
      "source": [
        "dict1.items()"
      ]
    },
    {
      "cell_type": "code",
      "execution_count": 98,
      "id": "90bef91a",
      "metadata": {
        "id": "90bef91a",
        "outputId": "f8992103-eb5e-456e-ebc0-20dc6cbd8b04",
        "colab": {
          "base_uri": "https://localhost:8080/"
        }
      },
      "outputs": [
        {
          "output_type": "execute_result",
          "data": {
            "text/plain": [
              "dict_values(['hari', 24])"
            ]
          },
          "metadata": {},
          "execution_count": 98
        }
      ],
      "source": [
        "dict1.values()"
      ]
    },
    {
      "cell_type": "code",
      "execution_count": 99,
      "id": "635887b8",
      "metadata": {
        "id": "635887b8",
        "outputId": "6749c658-2142-4e00-f822-33c5eaf346bb",
        "colab": {
          "base_uri": "https://localhost:8080/"
        }
      },
      "outputs": [
        {
          "output_type": "execute_result",
          "data": {
            "text/plain": [
              "dict_keys(['name', 'age'])"
            ]
          },
          "metadata": {},
          "execution_count": 99
        }
      ],
      "source": [
        "dict1.keys()"
      ]
    },
    {
      "cell_type": "code",
      "execution_count": 100,
      "id": "e2b58044",
      "metadata": {
        "id": "e2b58044"
      },
      "outputs": [],
      "source": [
        "dict1.clear()"
      ]
    },
    {
      "cell_type": "code",
      "execution_count": 101,
      "id": "880e98dc",
      "metadata": {
        "id": "880e98dc",
        "outputId": "ee26cdb8-9492-4ce6-d172-472f27a5d233",
        "colab": {
          "base_uri": "https://localhost:8080/"
        }
      },
      "outputs": [
        {
          "output_type": "execute_result",
          "data": {
            "text/plain": [
              "{}"
            ]
          },
          "metadata": {},
          "execution_count": 101
        }
      ],
      "source": [
        "dict1"
      ]
    },
    {
      "cell_type": "code",
      "execution_count": 102,
      "id": "81a31bb4",
      "metadata": {
        "id": "81a31bb4",
        "outputId": "fad1e229-95b3-487c-dd17-68ea0488cf71",
        "colab": {
          "base_uri": "https://localhost:8080/"
        }
      },
      "outputs": [
        {
          "output_type": "execute_result",
          "data": {
            "text/plain": [
              "{(2+3j), 2, 2.2, 3, 'hai'}"
            ]
          },
          "metadata": {},
          "execution_count": 102
        }
      ],
      "source": [
        "#sets\n",
        "\n",
        "set1={2,3,2.2,2+3j,\"hai\"}\n",
        "set1"
      ]
    },
    {
      "cell_type": "code",
      "execution_count": 103,
      "id": "91d7d95e",
      "metadata": {
        "id": "91d7d95e",
        "outputId": "52691335-710e-4ebe-ca88-aaf09e0a60af",
        "colab": {
          "base_uri": "https://localhost:8080/"
        }
      },
      "outputs": [
        {
          "output_type": "execute_result",
          "data": {
            "text/plain": [
              "5"
            ]
          },
          "metadata": {},
          "execution_count": 103
        }
      ],
      "source": [
        "len(set1)"
      ]
    },
    {
      "cell_type": "code",
      "execution_count": 104,
      "id": "dc9e9b4c",
      "metadata": {
        "id": "dc9e9b4c",
        "outputId": "c3eb251c-bdef-4a0e-f4c2-13e22ec166f4",
        "colab": {
          "base_uri": "https://localhost:8080/",
          "height": 165
        }
      },
      "outputs": [
        {
          "output_type": "error",
          "ename": "TypeError",
          "evalue": "ignored",
          "traceback": [
            "\u001b[0;31m---------------------------------------------------------------------------\u001b[0m",
            "\u001b[0;31mTypeError\u001b[0m                                 Traceback (most recent call last)",
            "\u001b[0;32m<ipython-input-104-22a2517c684b>\u001b[0m in \u001b[0;36m<module>\u001b[0;34m()\u001b[0m\n\u001b[0;32m----> 1\u001b[0;31m \u001b[0mset1\u001b[0m\u001b[0;34m[\u001b[0m\u001b[0;36m2\u001b[0m\u001b[0;34m]\u001b[0m\u001b[0;34m=\u001b[0m\u001b[0;36m0\u001b[0m\u001b[0;34m\u001b[0m\u001b[0;34m\u001b[0m\u001b[0m\n\u001b[0m",
            "\u001b[0;31mTypeError\u001b[0m: 'set' object does not support item assignment"
          ]
        }
      ],
      "source": [
        "set1[2]=0"
      ]
    },
    {
      "cell_type": "code",
      "execution_count": 105,
      "id": "6e35fd10",
      "metadata": {
        "id": "6e35fd10",
        "outputId": "39b0d4b3-4828-497b-dc42-7cac77dd31f2",
        "colab": {
          "base_uri": "https://localhost:8080/"
        }
      },
      "outputs": [
        {
          "output_type": "execute_result",
          "data": {
            "text/plain": [
              "{(2+3j), 2, 2.2, 3, 44, 'hai'}"
            ]
          },
          "metadata": {},
          "execution_count": 105
        }
      ],
      "source": [
        "set1.add(44)\n",
        "set1"
      ]
    },
    {
      "cell_type": "code",
      "execution_count": 106,
      "id": "22e3b017",
      "metadata": {
        "id": "22e3b017",
        "outputId": "a60e1dff-3490-4089-ec1f-ab88c48c0415",
        "colab": {
          "base_uri": "https://localhost:8080/"
        }
      },
      "outputs": [
        {
          "output_type": "execute_result",
          "data": {
            "text/plain": [
              "{(2+3j), 2, 2.2, 3, 'hai'}"
            ]
          },
          "metadata": {},
          "execution_count": 106
        }
      ],
      "source": [
        "set1.remove(44)\n",
        "set1"
      ]
    },
    {
      "cell_type": "code",
      "execution_count": 107,
      "id": "d45360d7",
      "metadata": {
        "id": "d45360d7"
      },
      "outputs": [],
      "source": [
        "set1.update({2,33,4})"
      ]
    },
    {
      "cell_type": "code",
      "execution_count": 108,
      "id": "4ec63b23",
      "metadata": {
        "id": "4ec63b23",
        "outputId": "eb8ee97f-2635-44df-895d-f4bcb04ab799",
        "colab": {
          "base_uri": "https://localhost:8080/"
        }
      },
      "outputs": [
        {
          "output_type": "execute_result",
          "data": {
            "text/plain": [
              "{(2+3j), 2, 2.2, 3, 33, 4, 'hai'}"
            ]
          },
          "metadata": {},
          "execution_count": 108
        }
      ],
      "source": [
        "set1"
      ]
    },
    {
      "cell_type": "code",
      "execution_count": 109,
      "id": "170fc6ec",
      "metadata": {
        "id": "170fc6ec"
      },
      "outputs": [],
      "source": [
        "#frozenset\n",
        "froz_set=frozenset({2,4,5,\"hai\"})"
      ]
    },
    {
      "cell_type": "code",
      "execution_count": 110,
      "id": "0b9b7c2a",
      "metadata": {
        "id": "0b9b7c2a",
        "outputId": "e656a94b-2240-4c39-f5b7-fe859ef4308d",
        "colab": {
          "base_uri": "https://localhost:8080/",
          "height": 165
        }
      },
      "outputs": [
        {
          "output_type": "error",
          "ename": "AttributeError",
          "evalue": "ignored",
          "traceback": [
            "\u001b[0;31m---------------------------------------------------------------------------\u001b[0m",
            "\u001b[0;31mAttributeError\u001b[0m                            Traceback (most recent call last)",
            "\u001b[0;32m<ipython-input-110-f0bba13b1f38>\u001b[0m in \u001b[0;36m<module>\u001b[0;34m()\u001b[0m\n\u001b[0;32m----> 1\u001b[0;31m \u001b[0mfroz_set\u001b[0m\u001b[0;34m.\u001b[0m\u001b[0mremove\u001b[0m\u001b[0;34m(\u001b[0m\u001b[0;36m4\u001b[0m\u001b[0;34m)\u001b[0m\u001b[0;34m\u001b[0m\u001b[0;34m\u001b[0m\u001b[0m\n\u001b[0m",
            "\u001b[0;31mAttributeError\u001b[0m: 'frozenset' object has no attribute 'remove'"
          ]
        }
      ],
      "source": [
        "froz_set.remove(4)"
      ]
    },
    {
      "cell_type": "code",
      "execution_count": 111,
      "id": "e5cf4b43",
      "metadata": {
        "id": "e5cf4b43",
        "outputId": "cd2ecfdb-edda-4caf-d8e6-6396998a6a10",
        "colab": {
          "base_uri": "https://localhost:8080/"
        }
      },
      "outputs": [
        {
          "output_type": "execute_result",
          "data": {
            "text/plain": [
              "4"
            ]
          },
          "metadata": {},
          "execution_count": 111
        }
      ],
      "source": [
        "len(froz_set)"
      ]
    },
    {
      "cell_type": "markdown",
      "id": "5b66d7a9",
      "metadata": {
        "id": "5b66d7a9"
      },
      "source": [
        "##  conditional statements\n",
        "\n",
        "## if-else\n",
        "## if condition:\n",
        "  ##      stst\n",
        "  ##  else:\n",
        "       \n",
        "  ##      stat  \n",
        "\n"
      ]
    },
    {
      "cell_type": "code",
      "execution_count": null,
      "id": "51b47df7",
      "metadata": {
        "id": "51b47df7",
        "outputId": "b3234c90-c3ff-41a7-e2c7-9352e1442354"
      },
      "outputs": [
        {
          "name": "stdout",
          "output_type": "stream",
          "text": [
            "a=12\n",
            "b =30\n",
            "b is greater\n"
          ]
        }
      ],
      "source": [
        "a=int(input(\"a=\"))\n",
        "b=int(input(\"b =\"))\n",
        "if a>b:\n",
        "    print(\"a is greater than b\")\n",
        "else:\n",
        "    print(\"b is greater\")"
      ]
    },
    {
      "cell_type": "code",
      "execution_count": null,
      "id": "5e5475ec",
      "metadata": {
        "id": "5e5475ec",
        "outputId": "0ab3ac7b-2568-4fe5-dc98-8d52ca4546c7"
      },
      "outputs": [
        {
          "name": "stdout",
          "output_type": "stream",
          "text": [
            "c =3\n",
            "b>c\n"
          ]
        }
      ],
      "source": [
        "c=int(input(\"c =\"))\n",
        "if a>b:\n",
        "    print(\"a>b\")\n",
        "elif b>c:\n",
        "    print(\"b>c\")\n",
        "elif a>c:\n",
        "    print(\"a>c\")\n",
        "else:\n",
        "    print(\"c is greater\")"
      ]
    },
    {
      "cell_type": "code",
      "execution_count": null,
      "id": "32c8de2d",
      "metadata": {
        "id": "32c8de2d",
        "outputId": "d8271498-240f-426f-87b1-c5c70c8b1151"
      },
      "outputs": [
        {
          "data": {
            "text/plain": [
              "5"
            ]
          },
          "execution_count": 177,
          "metadata": {},
          "output_type": "execute_result"
        }
      ],
      "source": [
        "def sum(a,b):\n",
        "    c=a+b\n",
        "    return c\n",
        "sum(2,3)"
      ]
    },
    {
      "cell_type": "code",
      "execution_count": null,
      "id": "7abba6d9",
      "metadata": {
        "id": "7abba6d9",
        "outputId": "95099ba9-56f7-48f1-8816-3ac975533b03"
      },
      "outputs": [
        {
          "name": "stdout",
          "output_type": "stream",
          "text": [
            "1\n",
            "2\n",
            "3\n",
            "4\n",
            "5\n",
            "6\n",
            "7\n",
            "8\n",
            "9\n",
            "10\n"
          ]
        }
      ],
      "source": [
        "n=1\n",
        "while n<=10:\n",
        "    print(n)\n",
        "    n=n+1"
      ]
    },
    {
      "cell_type": "code",
      "execution_count": null,
      "id": "c9322b49",
      "metadata": {
        "id": "c9322b49"
      },
      "outputs": [],
      "source": [
        ""
      ]
    }
  ],
  "metadata": {
    "kernelspec": {
      "display_name": "Python 3 (ipykernel)",
      "language": "python",
      "name": "python3"
    },
    "language_info": {
      "codemirror_mode": {
        "name": "ipython",
        "version": 3
      },
      "file_extension": ".py",
      "mimetype": "text/x-python",
      "name": "python",
      "nbconvert_exporter": "python",
      "pygments_lexer": "ipython3",
      "version": "3.9.7"
    },
    "colab": {
      "name": "week-2_ python basics.ipynb",
      "provenance": [],
      "collapsed_sections": [],
      "include_colab_link": true
    }
  },
  "nbformat": 4,
  "nbformat_minor": 5
}